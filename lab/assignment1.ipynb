{
 "cells": [
  {
   "cell_type": "markdown",
   "metadata": {},
   "source": [
    "1) A class with 10 students wants to produce some information from the results of the four standard  tests in Maths, Science, English and IT. Each test is out of 100 marks. The information output  should be the highest, lowest and average mark for each test and the highest, lowest and average  mark overall. Write a program in Python to complete this task."
   ]
  },
  {
   "cell_type": "code",
   "execution_count": 2,
   "metadata": {},
   "outputs": [
    {
     "name": "stdout",
     "output_type": "stream",
     "text": [
      "Maths:\n",
      "Highest mark: 92\n",
      "Lowest mark: 68\n",
      "Average mark: 80.20\n",
      "Science:\n",
      "Highest mark: 98\n",
      "Lowest mark: 72\n",
      "Average mark: 84.30\n",
      "English:\n",
      "Highest mark: 95\n",
      "Lowest mark: 75\n",
      "Average mark: 86.00\n",
      "IT:\n",
      "Highest mark: 90\n",
      "Lowest mark: 70\n",
      "Average mark: 80.50\n",
      "Overall:\n",
      "Highest mark: 98\n",
      "Lowest mark: 68\n",
      "Average mark: 82.75\n",
      "\n",
      "Overall:\n",
      "Highest mark: 98\n",
      "Lowest mark: 68\n",
      "Average mark: 82.75\n"
     ]
    }
   ],
   "source": [
    "def calculate_stats(marks):\n",
    "  tests = [\"Maths\", \"Science\", \"English\", \"IT\"]\n",
    "  stats = {}\n",
    "  for test in tests:\n",
    "    test_marks = [marks[i][tests.index(test)] for i in range(len(marks))]\n",
    "    stats[test] = {\n",
    "      \"highest\": max(test_marks),\n",
    "      \"lowest\": min(test_marks),\n",
    "      \"average\": sum(test_marks) / len(test_marks)\n",
    "    }\n",
    "  overall_stats = {\n",
    "    \"highest\": max(mark for student in marks for mark in student),\n",
    "    \"lowest\": min(mark for student in marks for mark in student),\n",
    "    \"average\": sum(sum(student) for student in marks) / (len(marks) * len(tests))\n",
    "  }\n",
    "  stats[\"Overall\"] = overall_stats\n",
    "  return stats\n",
    "\n",
    "# Example\n",
    "marks = [\n",
    "  [85, 78, 92, 80],\n",
    "  [72, 85, 88, 75],\n",
    "  [90, 95, 82, 90],\n",
    "  [68, 72, 75, 70],\n",
    "  [82, 88, 90, 85],\n",
    "  [75, 80, 83, 78],\n",
    "  [92, 98, 95, 90],\n",
    "  [80, 82, 85, 80],\n",
    "  [70, 75, 78, 72],\n",
    "  [88, 90, 92, 85],\n",
    "]\n",
    "\n",
    "stats = calculate_stats(marks)\n",
    "\n",
    "for test, test_stats in stats.items():\n",
    "  print(f\"{test}:\")\n",
    "  print(f\"Highest mark: {test_stats['highest']}\")\n",
    "  print(f\"Lowest mark: {test_stats['lowest']}\")\n",
    "  print(f\"Average mark: {test_stats['average']:.2f}\")\n",
    "\n",
    "print(\"\\nOverall:\")\n",
    "print(f\"Highest mark: {stats['Overall']['highest']}\")\n",
    "print(f\"Lowest mark: {stats['Overall']['lowest']}\")\n",
    "print(f\"Average mark: {stats['Overall']['average']:.2f}\")"
   ]
  },
  {
   "cell_type": "markdown",
   "metadata": {},
   "source": [
    "2) Write a Python Program to input basic salary of an employee and calculate its Gross salary  according to following: Basic Salary <= 10000 : HRA = 20%, DA = 80% Basic Salary <= 20000  : HRA = 25%, DA = 90% Basic Salary > 20000 : HRA = 30%, DA = 95%."
   ]
  },
  {
   "cell_type": "code",
   "execution_count": 2,
   "metadata": {},
   "outputs": [
    {
     "name": "stdout",
     "output_type": "stream",
     "text": [
      "Gross salary of the employee is Rs. 56250.00\n"
     ]
    }
   ],
   "source": [
    "basic_salary = 25000\n",
    "\n",
    "if basic_salary <= 10000:\n",
    "    hra = basic_salary * 20/100\n",
    "    da = basic_salary * 80/100\n",
    "elif basic_salary <= 20000:\n",
    "    hra = basic_salary * 25/100\n",
    "    da = basic_salary * 90/100\n",
    "else:\n",
    "    hra = basic_salary * 30/100\n",
    "    da = basic_salary * 95/100\n",
    "\n",
    "gross_salary = basic_salary + hra + da\n",
    "\n",
    "print(f\"Gross salary of the employee is Rs. {gross_salary:.2f}\")"
   ]
  },
  {
   "cell_type": "markdown",
   "metadata": {},
   "source": [
    "3) Write a Python program to check the validity of password input by users.  Validation:  \n",
    "∙ At least 1 letter between [a-z] and 1 letter between [A-Z].  \n",
    "∙ At least 1 number between [0-9].  \n",
    "∙ At least 1 character from [$#@].  \n",
    "∙ Minimum length 6 characters.  \n",
    "∙ Maximum length 16 characters. "
   ]
  },
  {
   "cell_type": "code",
   "execution_count": 10,
   "metadata": {},
   "outputs": [
    {
     "name": "stdout",
     "output_type": "stream",
     "text": [
      "Password: Password123! - Valid: True\n",
      "Password: password123 - Valid: False\n",
      "Password: PASSWORD123 - Valid: False\n",
      "Password: password - Valid: False\n",
      "Password: Password! - Valid: False\n",
      "Password: p@ssw0rd - Valid: False\n",
      "Password: ThisIsALongPassword123!@# - Valid: False\n"
     ]
    }
   ],
   "source": [
    "import re\n",
    "\n",
    "def is_valid_password(password):\n",
    "  \n",
    "    # password length\n",
    "    if len(password) < 6 or len(password) > 16:\n",
    "        return False\n",
    "\n",
    "    #lowercase letter\n",
    "    if not re.search(r\"[a-z]\", password):\n",
    "        return False\n",
    "\n",
    "    #uppercase letter\n",
    "    if not re.search(r\"[A-Z]\", password):\n",
    "        return False\n",
    "\n",
    "    #number\n",
    "    if not re.search(r\"\\d\", password):\n",
    "        return False\n",
    "\n",
    "    #special character\n",
    "    if not re.search(r\"[^\\da-zA-Z]\", password):\n",
    "        return False\n",
    "\n",
    "    return True\n",
    "\n",
    "# Test cases\n",
    "passwords = [\n",
    "    \"Password123!\",  # Valid password\n",
    "    \"password123\",   # No uppercase letter\n",
    "    \"PASSWORD123\",   # No lowercase letter\n",
    "    \"password\",      # No number\n",
    "    \"Password!\",     # No number\n",
    "    \"p@ssw0rd\",     # No uppercase letter\n",
    "    \"ThisIsALongPassword123!@#\",  # Too long\n",
    "]\n",
    "\n",
    "for password in passwords:\n",
    "    print(f\"Password: {password} - Valid: {is_valid_password(password)}\")\n"
   ]
  },
  {
   "cell_type": "markdown",
   "metadata": {},
   "source": [
    "4) Create a List L that is defined as= [10, 20, 30, 40, 50, 60, 70, 80]. \n",
    "(i) WAP to add 200 and 300 to L.  \n",
    "(ii) WAP to remove 10 and 30 from L. \n",
    "(iii) WAP to sort L in ascending order. \n",
    "(iv) WAP to sort L in descending order.\n"
   ]
  },
  {
   "cell_type": "code",
   "execution_count": 1,
   "metadata": {},
   "outputs": [
    {
     "name": "stdout",
     "output_type": "stream",
     "text": [
      "Final list after all operations: [300, 200, 80, 70, 60, 50, 40, 20]\n"
     ]
    }
   ],
   "source": [
    "L = [10, 20, 30, 40, 50, 60, 70, 80]\n",
    "\n",
    "# (i) Adding 200 and 300 to L\n",
    "L.append(200)\n",
    "L.append(300)\n",
    "\n",
    "# (ii) Removing 10 and 30 from L\n",
    "L.remove(10)\n",
    "L.remove(30)\n",
    "\n",
    "# (iii) Sorting L in ascending order\n",
    "L.sort()\n",
    "\n",
    "# (iv) Sorting L in descending order\n",
    "L.sort(reverse=True)\n",
    "\n",
    "print(\"Final list after all operations:\", L)\n"
   ]
  },
  {
   "cell_type": "markdown",
   "metadata": {},
   "source": [
    "5) D is a dictionary defined as D= {1:”One”, 2:”Two”, 3:”Three”, 4: “Four”, 5:”Five”}. (i) WAP to add new entry in D; key=6 and value is “Six” \n",
    "(ii) WAP to remove key=2. \n",
    "(iii) WAP to check if 6 key is present in D. \n",
    "(iv) WAP to count the number of elements present in D. \n",
    "(v) WAP to add all the values present D.\n"
   ]
  },
  {
   "cell_type": "code",
   "execution_count": 5,
   "metadata": {},
   "outputs": [
    {
     "name": "stdout",
     "output_type": "stream",
     "text": [
      "{1: 'One', 2: 'Two', 3: 'Three', 4: 'Four', 5: 'Five', 6: 'Six'}\n",
      "{1: 'One', 3: 'Three', 4: 'Four', 5: 'Five', 6: 'Six'}\n",
      "Key 6 is present in D\n",
      "Number of elements in D: 5\n",
      "Sum of the lengths of all values: 19\n"
     ]
    }
   ],
   "source": [
    "D= {1:'One', 2:'Two', 3:'Three', 4: 'Four', 5:'Five'}\n",
    "\n",
    "D[6] = \"Six\"\n",
    "print(D)  \n",
    "\n",
    "del D[2]\n",
    "print(D)  \n",
    "\n",
    "if 6 in D:\n",
    "    print(\"Key 6 is present in D\")\n",
    "else:\n",
    "    print(\"Key 6 is not present in D\")\n",
    "\n",
    "count = len(D)\n",
    "print(\"Number of elements in D:\", count) \n",
    "\n",
    "total = sum(len(value) for value in D.values())\n",
    "print(\"Sum of the lengths of all values:\", total)  \n"
   ]
  },
  {
   "cell_type": "markdown",
   "metadata": {},
   "source": [
    "6) WAP to create a list of 100 random numbers between 100 and 900. Count and print the:  (i) All odd numbers \n",
    "(ii) All even numbers \n",
    "(iii) All prime numbers\n"
   ]
  },
  {
   "cell_type": "code",
   "execution_count": 7,
   "metadata": {},
   "outputs": [
    {
     "name": "stdout",
     "output_type": "stream",
     "text": [
      "Number of odd numbers: 51\n",
      "Number of even numbers: 49\n",
      "Number of prime numbers: 14\n"
     ]
    }
   ],
   "source": [
    "import random\n",
    "\n",
    "numbers = [random.randint(100, 900) for _ in range(100)]\n",
    "\n",
    "odd_count = 0\n",
    "even_count = 0\n",
    "prime_count = 0\n",
    "\n",
    "for number in numbers:\n",
    "    if number % 2 != 0:\n",
    "        odd_count += 1\n",
    "    else:\n",
    "        even_count += 1\n",
    "#redo primes\n",
    "c=0\n",
    "for number in numbers:\n",
    "    c=0\n",
    "    for i in range(2,number):\n",
    "        if number%i==0:\n",
    "            c+=1\n",
    "    if(c==0):\n",
    "        prime_count+=1\n",
    "        \n",
    "                     \n",
    "print(\"Number of odd numbers:\", odd_count)\n",
    "print(\"Number of even numbers:\", even_count)\n",
    "print(\"Number of prime numbers:\", prime_count)\n"
   ]
  },
  {
   "cell_type": "markdown",
   "metadata": {},
   "source": [
    "7) Write a function which takes principal amount, interest rate and time. This function returns compound interest. Call this function to print the output. "
   ]
  },
  {
   "cell_type": "code",
   "execution_count": 7,
   "metadata": {},
   "outputs": [
    {
     "name": "stdout",
     "output_type": "stream",
     "text": [
      "Compound interest for principal of $10000.00, interest rate of 5.00%, and time of 5 years: $2762.82\n"
     ]
    }
   ],
   "source": [
    "def calculate_compound_interest(principal, interest_rate, time):\n",
    "  amount = principal * (1 + interest_rate) ** time\n",
    "  compound_interest = amount - principal\n",
    "  return compound_interest\n",
    "\n",
    "principal = 10000\n",
    "interest_rate = 0.05\n",
    "time = 5\n",
    "compound_interest = calculate_compound_interest(principal, interest_rate, time)\n",
    "\n",
    "print(f\"Compound interest for principal of ${principal:.2f}, interest rate of {interest_rate:.2%}, and time of {time} years: ${compound_interest:.2f}\") "
   ]
  },
  {
   "cell_type": "markdown",
   "metadata": {},
   "source": [
    "8 A) Make a class called Restaurant. The __init__() method for Restaurant should store two  attributes: a restaurant_name and a cuisine_type. Make a method called describe_restaurant()  that prints these two pieces of information, and a method called open_restaurant() that prints a  message indicating that the restaurant is open. Make an instance called restaurant from your  class. Print the two attributes individually, and then call both methods. "
   ]
  },
  {
   "cell_type": "code",
   "execution_count": 8,
   "metadata": {},
   "outputs": [
    {
     "name": "stdout",
     "output_type": "stream",
     "text": [
      "Restaurant name: Global Kitchen\n",
      "Cuisine type: Tokira\n",
      "Global Kitchen serves Tokira cuisine.\n",
      "Global Kitchen is open!\n"
     ]
    }
   ],
   "source": [
    "class Restaurant:\n",
    "    def __init__(self, restaurant_name, cuisine_type):\n",
    "        self.restaurant_name = restaurant_name\n",
    "        self.cuisine_type = cuisine_type\n",
    "\n",
    "    def describe_restaurant(self):\n",
    "        print(f\"{self.restaurant_name} serves {self.cuisine_type} cuisine.\")\n",
    "\n",
    "    def open_restaurant(self):\n",
    "        print(f\"{self.restaurant_name} is open!\")\n",
    "\n",
    "restaurant = Restaurant(\"Global Kitchen\", \"Tokira\")\n",
    "\n",
    "print(f\"Restaurant name: {restaurant.restaurant_name}\")\n",
    "print(f\"Cuisine type: {restaurant.cuisine_type}\")\n",
    "\n",
    "restaurant.describe_restaurant()\n",
    "restaurant.open_restaurant()"
   ]
  },
  {
   "cell_type": "markdown",
   "metadata": {},
   "source": [
    "8 B) Make a class called User. Create two attributes called first_name and last_name, and then  create several other attributes that are typically stored in a user profile. Make a method called  describe_user() that prints a summary of the user’s information. Make another method called  greet_user() that prints a personalized greeting to the user. Create several instances representing  different users, and call both method for each user."
   ]
  },
  {
   "cell_type": "code",
   "execution_count": 12,
   "metadata": {},
   "outputs": [
    {
     "name": "stdout",
     "output_type": "stream",
     "text": [
      "Alice Smith is 30 years old and lives in New York. Their email address is alice@example.com.\n",
      "Hello, Alice Smith! Welcome back.\n",
      "\n",
      "\n",
      "Bob Johnson is 25 years old and lives in London. Their email address is bob@example.com.\n",
      "Hello, Bob Johnson! Welcome back.\n"
     ]
    }
   ],
   "source": [
    "class User:\n",
    "    def __init__(self, first_name, last_name, email, age, city):\n",
    "        self.first_name = first_name\n",
    "        self.last_name = last_name\n",
    "        self.email = email\n",
    "        self.age = age\n",
    "        self.city = city\n",
    "\n",
    "    def describe_user(self):\n",
    "        print(f\"{self.first_name} {self.last_name} is {self.age} years old and lives in {self.city}. Their email address is {self.email}.\")\n",
    "\n",
    "    def greet_user(self):\n",
    "        print(f\"Hello, {self.first_name} {self.last_name}! Welcome back.\")\n",
    "\n",
    "user1 = User(\"Alice\", \"Smith\", \"alice@example.com\", 30, \"New York\")\n",
    "user2 = User(\"Bob\", \"Johnson\", \"bob@example.com\", 25, \"London\")\n",
    "\n",
    "user1.describe_user()\n",
    "user1.greet_user()\n",
    "print(\"\\n\")\n",
    "user2.describe_user()\n",
    "user2.greet_user()"
   ]
  }
 ],
 "metadata": {
  "kernelspec": {
   "display_name": "Python 3",
   "language": "python",
   "name": "python3"
  },
  "language_info": {
   "codemirror_mode": {
    "name": "ipython",
    "version": 3
   },
   "file_extension": ".py",
   "mimetype": "text/x-python",
   "name": "python",
   "nbconvert_exporter": "python",
   "pygments_lexer": "ipython3",
   "version": "3.11.9"
  }
 },
 "nbformat": 4,
 "nbformat_minor": 2
}
